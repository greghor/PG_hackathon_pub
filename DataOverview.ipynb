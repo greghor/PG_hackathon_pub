{
 "cells": [
  {
   "cell_type": "code",
   "execution_count": null,
   "metadata": {
    "collapsed": false
   },
   "outputs": [],
   "source": [
    "from PG_CommonFunc import *\n",
    "from matplotlib import pyplot as plt"
   ]
  },
  {
   "cell_type": "code",
   "execution_count": null,
   "metadata": {
    "collapsed": false
   },
   "outputs": [],
   "source": [
    "fileName=[\"FY_0899_PV_x_H2O\",\n",
    "\"LIC_69425_OUT_Train 4_SI\",\n",
    "\"PT_69309_PV_Train 4_NE\",\n",
    "\"PT_69399_PV_Train 4_NE\",\n",
    "\"PT_79415_PV_Train 3_SI\",\n",
    "\"TIC_69301_OUT_Train 4_NE\"]\n",
    "df=dict()\n",
    "ts=dict()\n",
    "for name in fileName:\n",
    "    print name\n",
    "    df[name]=ImportData(name,'2014-09-09','2014-09-29')\n",
    "    ShowPGData(df[name],1)\n",
    "\n",
    "    #ShowPGData(df,1)\n",
    "#    ts[name]=to_timeSeries(df[name],'5S')"
   ]
  },
  {
   "cell_type": "code",
   "execution_count": null,
   "metadata": {
    "collapsed": false
   },
   "outputs": [],
   "source": [
    "\n",
    "%matplotlib inline\n",
    "df[name].hist()"
   ]
  },
  {
   "cell_type": "code",
   "execution_count": null,
   "metadata": {
    "collapsed": false
   },
   "outputs": [],
   "source": [
    "ShowPGData(df,1)"
   ]
  },
  {
   "cell_type": "code",
   "execution_count": null,
   "metadata": {
    "collapsed": false
   },
   "outputs": [],
   "source": []
  },
  {
   "cell_type": "code",
   "execution_count": null,
   "metadata": {
    "collapsed": true
   },
   "outputs": [],
   "source": [
    "    df=pd.read_csv('/Users/greghor/Downloads/TY_985_x_Train 1_SG.csv', sep=' ', names = [\"dt\", \"val\"]) # read csv file\n"
   ]
  },
  {
   "cell_type": "code",
   "execution_count": null,
   "metadata": {
    "collapsed": false
   },
   "outputs": [],
   "source": [
    "df.describe()"
   ]
  },
  {
   "cell_type": "code",
   "execution_count": null,
   "metadata": {
    "collapsed": true
   },
   "outputs": [],
   "source": []
  }
 ],
 "metadata": {
  "kernelspec": {
   "display_name": "Python 2",
   "language": "python",
   "name": "python2"
  },
  "language_info": {
   "codemirror_mode": {
    "name": "ipython",
    "version": 2
   },
   "file_extension": ".py",
   "mimetype": "text/x-python",
   "name": "python",
   "nbconvert_exporter": "python",
   "pygments_lexer": "ipython2",
   "version": "2.7.11"
  }
 },
 "nbformat": 4,
 "nbformat_minor": 0
}
